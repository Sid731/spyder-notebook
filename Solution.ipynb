import pandas as pd
import numpy as np
from sklearn.model_selection import train_test_split, cross_val_score
from sklearn.tree import DecisionTreeRegressor, plot_tree
from sklearn.metrics import r2_score
import matplotlib.pyplot as plt

df = pd.read_csv(r'C:\Users\siddh\Downloads\AL LAB\AL LAB 2\2_4_6_DecisionTree_2Hrs\Housing.csv')

X = df.drop('price', axis=1)
y = df['price']

X_train, X_test, y_train, y_test = train_test_split(X, y, test_size=0.2, random_state=42)

dt_model = DecisionTreeRegressor()
dt_model.fit(X_train, y_train)

plt.figure(figsize=(15, 8))
plot_tree(dt_model, filled=True, feature_names=X.columns, rounded=True)
plt.show()

y_pred = dt_model.predict(X_test)
r2 = r2_score(y_test, y_pred)
print(f"R-squared Score on Test Set: {r2:.4f}")

cv_scores = cross_val_score(dt_model, X, y, cv=5, scoring='r2')
print(f"Cross-validated R-squared Scores: {cv_scores}")
print(f"Mean Cross-validated R-squared Score: {np.mean(cv_scores):.4f}")

